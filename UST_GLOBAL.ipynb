{
  "nbformat": 4,
  "nbformat_minor": 0,
  "metadata": {
    "colab": {
      "name": "UST_GLOBAL.ipynb",
      "provenance": [],
      "collapsed_sections": []
    },
    "kernelspec": {
      "name": "python3",
      "display_name": "Python 3"
    },
    "language_info": {
      "name": "python"
    }
  },
  "cells": [
    {
      "cell_type": "markdown",
      "source": [
        "# **Naive Bayes Classification.......**"
      ],
      "metadata": {
        "id": "Tbs7ctKmOile"
      }
    },
    {
      "cell_type": "code",
      "execution_count": 257,
      "metadata": {
        "id": "Lq6_Uj-ltBiP"
      },
      "outputs": [],
      "source": [
        "# importing the libraries\n",
        "import pandas as pd # data processing, CSV file \n",
        "from sklearn.naive_bayes import GaussianNB"
      ]
    },
    {
      "cell_type": "markdown",
      "source": [
        "Importing the dataset.."
      ],
      "metadata": {
        "id": "1HIrc68kKHKb"
      }
    },
    {
      "cell_type": "code",
      "source": [
        "dataset=pd.read_csv('/content/sample_data/daily_show_guests.csv')"
      ],
      "metadata": {
        "id": "Jei6wfj61ZnC"
      },
      "execution_count": 258,
      "outputs": []
    },
    {
      "cell_type": "markdown",
      "source": [
        "Returns tuple of shape (Rows, columns) of dataframe/series"
      ],
      "metadata": {
        "id": "pw5x8jR6KapQ"
      }
    },
    {
      "cell_type": "code",
      "source": [
        "dataset.shape"
      ],
      "metadata": {
        "colab": {
          "base_uri": "https://localhost:8080/"
        },
        "id": "Hxwk9qWifymG",
        "outputId": "d315ca76-1e80-45b8-8aed-6fec9c661687"
      },
      "execution_count": 259,
      "outputs": [
        {
          "output_type": "execute_result",
          "data": {
            "text/plain": [
              "(2693, 5)"
            ]
          },
          "metadata": {},
          "execution_count": 259
        }
      ]
    },
    {
      "cell_type": "markdown",
      "source": [
        "Returning top n (by default value 5) rows of  data frame "
      ],
      "metadata": {
        "id": "qFOALMR4KfUG"
      }
    },
    {
      "cell_type": "code",
      "source": [
        "dataset.head()"
      ],
      "metadata": {
        "colab": {
          "base_uri": "https://localhost:8080/",
          "height": 206
        },
        "id": "R4_K4HtYf5LH",
        "outputId": "cb30e5f7-1034-4de2-e253-bdaf0c9237bc"
      },
      "execution_count": 260,
      "outputs": [
        {
          "output_type": "execute_result",
          "data": {
            "text/plain": [
              "   YEAR GoogleKnowlege_Occupation     Show   Group    Raw_Guest_List\n",
              "0  1999                     actor  1/11/99  Acting    Michael J. Fox\n",
              "1  1999                  Comedian  1/12/99  Comedy   Sandra Bernhard\n",
              "2  1999        television actress  1/13/99  Acting     Tracey Ullman\n",
              "3  1999              film actress  1/14/99  Acting  Gillian Anderson\n",
              "4  1999                     actor  1/18/99  Acting  David Alan Grier"
            ],
            "text/html": [
              "\n",
              "  <div id=\"df-354d4438-9ca7-45b8-80ce-115b5968dd84\">\n",
              "    <div class=\"colab-df-container\">\n",
              "      <div>\n",
              "<style scoped>\n",
              "    .dataframe tbody tr th:only-of-type {\n",
              "        vertical-align: middle;\n",
              "    }\n",
              "\n",
              "    .dataframe tbody tr th {\n",
              "        vertical-align: top;\n",
              "    }\n",
              "\n",
              "    .dataframe thead th {\n",
              "        text-align: right;\n",
              "    }\n",
              "</style>\n",
              "<table border=\"1\" class=\"dataframe\">\n",
              "  <thead>\n",
              "    <tr style=\"text-align: right;\">\n",
              "      <th></th>\n",
              "      <th>YEAR</th>\n",
              "      <th>GoogleKnowlege_Occupation</th>\n",
              "      <th>Show</th>\n",
              "      <th>Group</th>\n",
              "      <th>Raw_Guest_List</th>\n",
              "    </tr>\n",
              "  </thead>\n",
              "  <tbody>\n",
              "    <tr>\n",
              "      <th>0</th>\n",
              "      <td>1999</td>\n",
              "      <td>actor</td>\n",
              "      <td>1/11/99</td>\n",
              "      <td>Acting</td>\n",
              "      <td>Michael J. Fox</td>\n",
              "    </tr>\n",
              "    <tr>\n",
              "      <th>1</th>\n",
              "      <td>1999</td>\n",
              "      <td>Comedian</td>\n",
              "      <td>1/12/99</td>\n",
              "      <td>Comedy</td>\n",
              "      <td>Sandra Bernhard</td>\n",
              "    </tr>\n",
              "    <tr>\n",
              "      <th>2</th>\n",
              "      <td>1999</td>\n",
              "      <td>television actress</td>\n",
              "      <td>1/13/99</td>\n",
              "      <td>Acting</td>\n",
              "      <td>Tracey Ullman</td>\n",
              "    </tr>\n",
              "    <tr>\n",
              "      <th>3</th>\n",
              "      <td>1999</td>\n",
              "      <td>film actress</td>\n",
              "      <td>1/14/99</td>\n",
              "      <td>Acting</td>\n",
              "      <td>Gillian Anderson</td>\n",
              "    </tr>\n",
              "    <tr>\n",
              "      <th>4</th>\n",
              "      <td>1999</td>\n",
              "      <td>actor</td>\n",
              "      <td>1/18/99</td>\n",
              "      <td>Acting</td>\n",
              "      <td>David Alan Grier</td>\n",
              "    </tr>\n",
              "  </tbody>\n",
              "</table>\n",
              "</div>\n",
              "      <button class=\"colab-df-convert\" onclick=\"convertToInteractive('df-354d4438-9ca7-45b8-80ce-115b5968dd84')\"\n",
              "              title=\"Convert this dataframe to an interactive table.\"\n",
              "              style=\"display:none;\">\n",
              "        \n",
              "  <svg xmlns=\"http://www.w3.org/2000/svg\" height=\"24px\"viewBox=\"0 0 24 24\"\n",
              "       width=\"24px\">\n",
              "    <path d=\"M0 0h24v24H0V0z\" fill=\"none\"/>\n",
              "    <path d=\"M18.56 5.44l.94 2.06.94-2.06 2.06-.94-2.06-.94-.94-2.06-.94 2.06-2.06.94zm-11 1L8.5 8.5l.94-2.06 2.06-.94-2.06-.94L8.5 2.5l-.94 2.06-2.06.94zm10 10l.94 2.06.94-2.06 2.06-.94-2.06-.94-.94-2.06-.94 2.06-2.06.94z\"/><path d=\"M17.41 7.96l-1.37-1.37c-.4-.4-.92-.59-1.43-.59-.52 0-1.04.2-1.43.59L10.3 9.45l-7.72 7.72c-.78.78-.78 2.05 0 2.83L4 21.41c.39.39.9.59 1.41.59.51 0 1.02-.2 1.41-.59l7.78-7.78 2.81-2.81c.8-.78.8-2.07 0-2.86zM5.41 20L4 18.59l7.72-7.72 1.47 1.35L5.41 20z\"/>\n",
              "  </svg>\n",
              "      </button>\n",
              "      \n",
              "  <style>\n",
              "    .colab-df-container {\n",
              "      display:flex;\n",
              "      flex-wrap:wrap;\n",
              "      gap: 12px;\n",
              "    }\n",
              "\n",
              "    .colab-df-convert {\n",
              "      background-color: #E8F0FE;\n",
              "      border: none;\n",
              "      border-radius: 50%;\n",
              "      cursor: pointer;\n",
              "      display: none;\n",
              "      fill: #1967D2;\n",
              "      height: 32px;\n",
              "      padding: 0 0 0 0;\n",
              "      width: 32px;\n",
              "    }\n",
              "\n",
              "    .colab-df-convert:hover {\n",
              "      background-color: #E2EBFA;\n",
              "      box-shadow: 0px 1px 2px rgba(60, 64, 67, 0.3), 0px 1px 3px 1px rgba(60, 64, 67, 0.15);\n",
              "      fill: #174EA6;\n",
              "    }\n",
              "\n",
              "    [theme=dark] .colab-df-convert {\n",
              "      background-color: #3B4455;\n",
              "      fill: #D2E3FC;\n",
              "    }\n",
              "\n",
              "    [theme=dark] .colab-df-convert:hover {\n",
              "      background-color: #434B5C;\n",
              "      box-shadow: 0px 1px 3px 1px rgba(0, 0, 0, 0.15);\n",
              "      filter: drop-shadow(0px 1px 2px rgba(0, 0, 0, 0.3));\n",
              "      fill: #FFFFFF;\n",
              "    }\n",
              "  </style>\n",
              "\n",
              "      <script>\n",
              "        const buttonEl =\n",
              "          document.querySelector('#df-354d4438-9ca7-45b8-80ce-115b5968dd84 button.colab-df-convert');\n",
              "        buttonEl.style.display =\n",
              "          google.colab.kernel.accessAllowed ? 'block' : 'none';\n",
              "\n",
              "        async function convertToInteractive(key) {\n",
              "          const element = document.querySelector('#df-354d4438-9ca7-45b8-80ce-115b5968dd84');\n",
              "          const dataTable =\n",
              "            await google.colab.kernel.invokeFunction('convertToInteractive',\n",
              "                                                     [key], {});\n",
              "          if (!dataTable) return;\n",
              "\n",
              "          const docLinkHtml = 'Like what you see? Visit the ' +\n",
              "            '<a target=\"_blank\" href=https://colab.research.google.com/notebooks/data_table.ipynb>data table notebook</a>'\n",
              "            + ' to learn more about interactive tables.';\n",
              "          element.innerHTML = '';\n",
              "          dataTable['output_type'] = 'display_data';\n",
              "          await google.colab.output.renderOutput(dataTable, element);\n",
              "          const docLink = document.createElement('div');\n",
              "          docLink.innerHTML = docLinkHtml;\n",
              "          element.appendChild(docLink);\n",
              "        }\n",
              "      </script>\n",
              "    </div>\n",
              "  </div>\n",
              "  "
            ]
          },
          "metadata": {},
          "execution_count": 260
        }
      ]
    },
    {
      "cell_type": "markdown",
      "source": [
        "Prints information about the DataFrame"
      ],
      "metadata": {
        "id": "0NZMmEaqKyC0"
      }
    },
    {
      "cell_type": "code",
      "source": [
        "dataset.info()"
      ],
      "metadata": {
        "colab": {
          "base_uri": "https://localhost:8080/"
        },
        "id": "mUQR0bQDgIKA",
        "outputId": "ebd1f1ba-7248-44a6-c4cb-64e52d9bd3d2"
      },
      "execution_count": 261,
      "outputs": [
        {
          "output_type": "stream",
          "name": "stdout",
          "text": [
            "<class 'pandas.core.frame.DataFrame'>\n",
            "RangeIndex: 2693 entries, 0 to 2692\n",
            "Data columns (total 5 columns):\n",
            " #   Column                     Non-Null Count  Dtype \n",
            "---  ------                     --------------  ----- \n",
            " 0   YEAR                       2693 non-null   int64 \n",
            " 1   GoogleKnowlege_Occupation  2667 non-null   object\n",
            " 2   Show                       2693 non-null   object\n",
            " 3   Group                      2662 non-null   object\n",
            " 4   Raw_Guest_List             2693 non-null   object\n",
            "dtypes: int64(1), object(4)\n",
            "memory usage: 105.3+ KB\n"
          ]
        }
      ]
    },
    {
      "cell_type": "markdown",
      "source": [
        "Label Encoder for encoding the levels of categorical features into numeric values; Fit label encoder and return encoded labels..\n"
      ],
      "metadata": {
        "id": "uI3LXTh-LFbX"
      }
    },
    {
      "cell_type": "code",
      "source": [
        "from sklearn.preprocessing import LabelEncoder\n",
        "encoder=LabelEncoder()\n",
        "dataset['YEAR']=encoder.fit_transform(dataset['YEAR'])\n",
        "dataset['GoogleKnowlege_Occupation']=encoder.fit_transform(dataset['GoogleKnowlege_Occupation'])\n",
        "dataset['Show']=encoder.fit_transform(dataset['Show'])\n",
        "dataset['Group']=encoder.fit_transform(dataset['Group'])\n",
        "dataset['Raw_Guest_List']=encoder.fit_transform(dataset['Raw_Guest_List'])"
      ],
      "metadata": {
        "id": "4_e23EPhFFnb"
      },
      "execution_count": 262,
      "outputs": []
    },
    {
      "cell_type": "markdown",
      "source": [
        "Split the data into features and targets"
      ],
      "metadata": {
        "id": "PebGItr2LOmu"
      }
    },
    {
      "cell_type": "code",
      "source": [
        "features=[\"YEAR\",\"GoogleKnowlege_Occupation\",\"Show\",\"Raw_Guest_List\"]\n",
        "target=[\"Group\"]"
      ],
      "metadata": {
        "id": "dEoFM8T53fdg"
      },
      "execution_count": 263,
      "outputs": []
    },
    {
      "cell_type": "code",
      "source": [
        "# training and testing data\n",
        "from sklearn.model_selection import train_test_split\n",
        "# assign test data size 35%\n",
        "x_train,x_test,y_train,y_test=train_test_split(dataset[features],dataset[target],test_size=0.35,random_state=70)"
      ],
      "metadata": {
        "id": "14W7OyzC4SFV"
      },
      "execution_count": 264,
      "outputs": []
    },
    {
      "cell_type": "code",
      "source": [
        "# import Gaussian Naive Bayes classifier\n",
        "from sklearn.naive_bayes import GaussianNB\n",
        "# importing accuracy score\n",
        "from sklearn.metrics import accuracy_score\n",
        "# importing confusion matrix,classification report\n",
        "from sklearn.metrics import confusion_matrix,classification_report\n",
        "scores=[]\n",
        "# create a Gaussian Classifier\n",
        "classifier=GaussianNB()\n",
        "# training the model\n",
        "classifier.fit(x_train,y_train)\n",
        "# testing the model\n",
        "pred=classifier.predict(x_test)\n",
        "# passing actual and predicted values\n",
        "# printing the matrix\n",
        "print(confusion_matrix(y_test,pred))"
      ],
      "metadata": {
        "colab": {
          "base_uri": "https://localhost:8080/"
        },
        "id": "KJz109hv4Wyk",
        "outputId": "5958d5da-a479-4327-887a-96360f5495e2"
      },
      "execution_count": 265,
      "outputs": [
        {
          "output_type": "stream",
          "name": "stdout",
          "text": [
            "[[  0   9   0   0   0   0   0   0   0  24   0   0   0   0   0   0   0   0]\n",
            " [  0 328   0   0   0   0   0   0   0  17   0   0   2   0   0   0   0   0]\n",
            " [  0   5   0   0   0   0   0   0   0   2   0   0   0   0   0   0   0   0]\n",
            " [  0   7   0   0   0   0   0   0   0  12   0   0   0   0   0   0   0   0]\n",
            " [  0   4   0   0   0   0   0   0   0   4   0   0   0   0   0   0   0   0]\n",
            " [  0   1   0   0   0   0   0   0   0   3   0   0   0   0   0   0   0   0]\n",
            " [  0  23   0   0   0   0   0   0   0  27   0   0   0   0   0   0   0   0]\n",
            " [  0   2   0   0   0   0   0   0   0   4   0   0   0   0   0   0   0   0]\n",
            " [  0   4   0   0   0   0   0   0   0   9   0   0   0   0   0   0   0   0]\n",
            " [  0  72   0   0   0   0   0   0   0 183   0   0   0   0   0   0   0   0]\n",
            " [  0   1   0   0   0   0   0   0   0   5   0   0   0   0   0   0   0   0]\n",
            " [  0   5   0   0   0   0   0   0   0   7   0   0   0   0   0   0   0   0]\n",
            " [  0  17   0   0   0   0   0   0   0  18   0   0   0   0   0   0   0   0]\n",
            " [  0   2   0   0   0   0   0   0   0   5   0   0   0   0   0   0   0   0]\n",
            " [  0  15   0   0   0   0   0   0   0  97   0   0   1   0   1   0   0   0]\n",
            " [  0   0   0   0   0   0   0   0   0   9   0   0   0   0   0   0   0   0]\n",
            " [  0   0   0   0   0   0   0   0   0   1   0   0   0   0   0   0   1   0]\n",
            " [  0   0   0   0   0   0   0   0   0  13   0   0   1   0   2   0   0   0]]\n"
          ]
        }
      ]
    },
    {
      "cell_type": "code",
      "source": [
        "# printing the report\n",
        "print(classification_report(y_test,pred))"
      ],
      "metadata": {
        "colab": {
          "base_uri": "https://localhost:8080/"
        },
        "id": "BoAHU7ar49LV",
        "outputId": "87a52239-9315-4e1a-c98c-008b73a9dffc"
      },
      "execution_count": 266,
      "outputs": [
        {
          "output_type": "stream",
          "name": "stdout",
          "text": [
            "              precision    recall  f1-score   support\n",
            "\n",
            "           0       0.00      0.00      0.00        33\n",
            "           1       0.66      0.95      0.78       347\n",
            "           2       0.00      0.00      0.00         7\n",
            "           3       0.00      0.00      0.00        19\n",
            "           4       0.00      0.00      0.00         8\n",
            "           5       0.00      0.00      0.00         4\n",
            "           6       0.00      0.00      0.00        50\n",
            "           7       0.00      0.00      0.00         6\n",
            "           8       0.00      0.00      0.00        13\n",
            "           9       0.42      0.72      0.53       255\n",
            "          10       0.00      0.00      0.00         6\n",
            "          11       0.00      0.00      0.00        12\n",
            "          12       0.00      0.00      0.00        35\n",
            "          13       0.00      0.00      0.00         7\n",
            "          14       0.33      0.01      0.02       114\n",
            "          15       0.00      0.00      0.00         9\n",
            "          16       1.00      0.50      0.67         2\n",
            "          17       0.00      0.00      0.00        16\n",
            "\n",
            "    accuracy                           0.54       943\n",
            "   macro avg       0.13      0.12      0.11       943\n",
            "weighted avg       0.40      0.54      0.43       943\n",
            "\n"
          ]
        }
      ]
    },
    {
      "cell_type": "code",
      "source": [
        "# printing the accuracy of the model\n",
        "print(accuracy_score(y_test,pred))"
      ],
      "metadata": {
        "colab": {
          "base_uri": "https://localhost:8080/"
        },
        "id": "STbKTybk5D7u",
        "outputId": "3dfcd4fb-1d95-4c7b-d7ce-7c81a37eb0c6"
      },
      "execution_count": 267,
      "outputs": [
        {
          "output_type": "stream",
          "name": "stdout",
          "text": [
            "0.5440084835630965\n"
          ]
        }
      ]
    }
  ]
}